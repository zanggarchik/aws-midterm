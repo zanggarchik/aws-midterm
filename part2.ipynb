{
 "cells": [
  {
   "cell_type": "code",
   "execution_count": 9,
   "id": "6c0d001c-7008-4ac9-9441-5dbf5653b3ec",
   "metadata": {},
   "outputs": [
    {
     "name": "stdout",
     "output_type": "stream",
     "text": [
      "Найденные объекты:\n",
      "Объект: technodom_reviews/cleaned_final_output/part-00000-f8582dcd-65de-46a8-a8bc-e98410eeb8c4-c000.csv\n",
      "Данные загружены в DataFrame!\n",
      "                                            original  \\\n",
      "0               хороший телефон,я довольна покупкой.   \n",
      "1                 Хорошо работает, даже не зависает)   \n",
      "2  почему то не дали гифт бокс от оппо, хотя он с...   \n",
      "3                                        только цена   \n",
      "4                                          отлично 👌   \n",
      "\n",
      "                                          translated  \n",
      "0          Good phone, I am happy with the purchase.  \n",
      "1               It works well, does not even freeze)  \n",
      "2  For some reason, they did not give a gift box ...  \n",
      "3                                     Only the price  \n",
      "4                                        Excellent 👌  \n"
     ]
    },
    {
     "name": "stderr",
     "output_type": "stream",
     "text": [
      "/tmp/ipykernel_15191/2804794106.py:27: FutureWarning: The error_bad_lines argument has been deprecated and will be removed in a future version. Use on_bad_lines in the future.\n",
      "\n",
      "\n",
      "  df = pd.read_csv(StringIO(data), error_bad_lines=False)  # Пропускаем строки с ошибками\n",
      "Skipping line 183: expected 2 fields, saw 3\n",
      "Skipping line 244: expected 2 fields, saw 5\n",
      "Skipping line 309: expected 2 fields, saw 10\n",
      "\n"
     ]
    }
   ],
   "source": [
    "import boto3\n",
    "import pandas as pd\n",
    "from io import StringIO\n",
    "\n",
    "# Создаем клиент для доступа к S3\n",
    "s3 = boto3.client('s3')\n",
    "\n",
    "# Указываем бакет и префикс (путь до директории)\n",
    "s3_bucket = \"zanggar\"\n",
    "prefix = \"technodom_reviews/cleaned_final_output/\"\n",
    "\n",
    "# Получаем список объектов в указанной папке\n",
    "response = s3.list_objects_v2(Bucket=s3_bucket, Prefix=prefix)\n",
    "\n",
    "# Проверяем, есть ли объекты в указанной папке\n",
    "if 'Contents' in response:\n",
    "    print(\"Найденные объекты:\")\n",
    "    for obj in response['Contents']:\n",
    "        print(f\"Объект: {obj['Key']}\")\n",
    "        # Попробуем загрузить первый найденный объект\n",
    "        s3_key = obj['Key']\n",
    "        try:\n",
    "            obj_data = s3.get_object(Bucket=s3_bucket, Key=s3_key)\n",
    "            data = obj_data['Body'].read().decode('utf-8')\n",
    "            \n",
    "            # Преобразуем данные в DataFrame, игнорируя ошибки\n",
    "            df = pd.read_csv(StringIO(data), error_bad_lines=False)  # Пропускаем строки с ошибками\n",
    "            print(\"Данные загружены в DataFrame!\")\n",
    "            print(df.head())  # Выводим первые строки данных\n",
    "        except Exception as e:\n",
    "            print(f\"Ошибка при загрузке объекта {s3_key}: {e}\")\n",
    "else:\n",
    "    print(\"Объекты не найдены в указанной папке.\")"
   ]
  },
  {
   "cell_type": "code",
   "execution_count": null,
   "id": "e0c049cb-c0e3-4112-8ee4-d05fa826a92e",
   "metadata": {},
   "outputs": [],
   "source": []
  }
 ],
 "metadata": {
  "kernelspec": {
   "display_name": "conda_python3",
   "language": "python",
   "name": "conda_python3"
  },
  "language_info": {
   "codemirror_mode": {
    "name": "ipython",
    "version": 3
   },
   "file_extension": ".py",
   "mimetype": "text/x-python",
   "name": "python",
   "nbconvert_exporter": "python",
   "pygments_lexer": "ipython3",
   "version": "3.10.16"
  }
 },
 "nbformat": 4,
 "nbformat_minor": 5
}
